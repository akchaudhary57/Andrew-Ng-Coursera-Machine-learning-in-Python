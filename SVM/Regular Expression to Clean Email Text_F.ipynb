{
 "cells": [
  {
   "cell_type": "markdown",
   "metadata": {},
   "source": [
    "# Detail explanation of Regular expression to clean email text"
   ]
  },
  {
   "cell_type": "code",
   "execution_count": 26,
   "metadata": {},
   "outputs": [],
   "source": [
    "import re\n",
    "\n",
    "file_contents = open(\"emailSample1.txt\",\"r\").read()\n"
   ]
  },
  {
   "cell_type": "code",
   "execution_count": 27,
   "metadata": {},
   "outputs": [
    {
     "data": {
      "text/plain": [
       "\"> Anyone knows how much it costs to host a web portal ?\\n>\\nWell, it depends on how many visitors you're expecting.\\nThis can be anywhere from less than 10 bucks a month to a couple of $100. \\nYou should checkout http://www.rackspace.com/ or perhaps Amazon EC2 \\nif youre running something big..\\n\\nTo unsubscribe yourself from this mailing list, send an email to:\\ngroupname-unsubscribe@egroups.com\\n\\n\""
      ]
     },
     "execution_count": 27,
     "metadata": {},
     "output_type": "execute_result"
    }
   ],
   "source": [
    "file_contents"
   ]
  },
  {
   "cell_type": "markdown",
   "metadata": {},
   "source": [
    "### Lower-casing:- \n",
    "The entire email is converted into lower case, so that captialization is ignored. (e.g., IndIcaTE is treated same as Indicate)"
   ]
  },
  {
   "cell_type": "code",
   "execution_count": 28,
   "metadata": {},
   "outputs": [
    {
     "data": {
      "text/plain": [
       "\"> anyone knows how much it costs to host a web portal ?\\n>\\nwell, it depends on how many visitors you're expecting.\\nthis can be anywhere from less than 10 bucks a month to a couple of $100. \\nyou should checkout http://www.rackspace.com/ or perhaps amazon ec2 \\nif youre running something big..\\n\\nto unsubscribe yourself from this mailing list, send an email to:\\ngroupname-unsubscribe@egroups.com\\n\\n\""
      ]
     },
     "execution_count": 28,
     "metadata": {},
     "output_type": "execute_result"
    }
   ],
   "source": [
    "file_contents = file_contents.lower()\n",
    "file_contents"
   ]
  },
  {
   "cell_type": "markdown",
   "metadata": {},
   "source": [
    "### Handling Numbers:-\n",
    "    \n",
    "We hardcode all numbers to \"number\" in the text."
   ]
  },
  {
   "cell_type": "code",
   "execution_count": 30,
   "metadata": {},
   "outputs": [
    {
     "data": {
      "text/plain": [
       "['10', '100', '2']"
      ]
     },
     "execution_count": 30,
     "metadata": {},
     "output_type": "execute_result"
    }
   ],
   "source": [
    "re.findall(\"[\\d]+\",file_contents)"
   ]
  },
  {
   "cell_type": "code",
   "execution_count": 33,
   "metadata": {},
   "outputs": [
    {
     "data": {
      "text/plain": [
       "\"> anyone knows how much it costs to host a web portal ?\\n>\\nwell, it depends on how many visitors you're expecting.\\nthis can be anywhere from less than number bucks a month to a couple of $number. \\nyou should checkout http://www.rackspace.com/ or perhaps amazon ecnumber \\nif youre running something big..\\n\\nto unsubscribe yourself from this mailing list, send an email to:\\ngroupname-unsubscribe@egroups.com\\n\\n\""
      ]
     },
     "execution_count": 33,
     "metadata": {},
     "output_type": "execute_result"
    }
   ],
   "source": [
    "file_contents = re.sub(\"[\\d]+\",\"number\",file_contents)\n",
    "file_contents"
   ]
  },
  {
   "cell_type": "markdown",
   "metadata": {},
   "source": [
    "### Handling URLs:-\n",
    "    \n",
    "We hardcode all URLs to \"httpaddr\" in the text"
   ]
  },
  {
   "cell_type": "code",
   "execution_count": 34,
   "metadata": {},
   "outputs": [],
   "source": [
    "dt = 'I refer to https://google.com and I never refer http://www.baidu.com if I have to search anything'"
   ]
  },
  {
   "cell_type": "code",
   "execution_count": 38,
   "metadata": {},
   "outputs": [
    {
     "data": {
      "text/plain": [
       "['https://google.com', 'http://www.baidu.com']"
      ]
     },
     "execution_count": 38,
     "metadata": {},
     "output_type": "execute_result"
    }
   ],
   "source": [
    "re.findall(\"https?://[^\\s]+\",dt)"
   ]
  },
  {
   "cell_type": "code",
   "execution_count": 39,
   "metadata": {},
   "outputs": [
    {
     "data": {
      "text/plain": [
       "['http://www.rackspace.com/']"
      ]
     },
     "execution_count": 39,
     "metadata": {},
     "output_type": "execute_result"
    }
   ],
   "source": [
    "re.findall(\"https?://[^\\s]+\",file_contents)"
   ]
  },
  {
   "cell_type": "code",
   "execution_count": 40,
   "metadata": {},
   "outputs": [
    {
     "data": {
      "text/plain": [
       "\"> anyone knows how much it costs to host a web portal ?\\n>\\nwell, it depends on how many visitors you're expecting.\\nthis can be anywhere from less than number bucks a month to a couple of $number. \\nyou should checkout httpaddr or perhaps amazon ecnumber \\nif youre running something big..\\n\\nto unsubscribe yourself from this mailing list, send an email to:\\ngroupname-unsubscribe@egroups.com\\n\\n\""
      ]
     },
     "execution_count": 40,
     "metadata": {},
     "output_type": "execute_result"
    }
   ],
   "source": [
    "file_contents = re.sub(\"https?://[^\\s]+\",\"httpaddr\",file_contents)\n",
    "file_contents"
   ]
  },
  {
   "cell_type": "markdown",
   "metadata": {},
   "source": [
    "#### Handling EmailAddress:-\n",
    "\n",
    "We hardcode all emailaddress to \"emailaddr\" the text"
   ]
  },
  {
   "cell_type": "code",
   "execution_count": 44,
   "metadata": {},
   "outputs": [
    {
     "data": {
      "text/plain": [
       "['groupname-unsubscribe@egroups.com']"
      ]
     },
     "execution_count": 44,
     "metadata": {},
     "output_type": "execute_result"
    }
   ],
   "source": [
    "re.findall(\"[^\\s]+@[^\\s]+\",file_contents)"
   ]
  },
  {
   "cell_type": "code",
   "execution_count": 45,
   "metadata": {},
   "outputs": [
    {
     "data": {
      "text/plain": [
       "\"> anyone knows how much it costs to host a web portal ?\\n>\\nwell, it depends on how many visitors you're expecting.\\nthis can be anywhere from less than number bucks a month to a couple of $number. \\nyou should checkout httpaddr or perhaps amazon ecnumber \\nif youre running something big..\\n\\nto unsubscribe yourself from this mailing list, send an email to:\\nemailaddr\\n\\n\""
      ]
     },
     "execution_count": 45,
     "metadata": {},
     "output_type": "execute_result"
    }
   ],
   "source": [
    "file_contents = re.sub(\"[^\\s]+@[^\\s]+\",\"emailaddr\",file_contents)\n",
    "file_contents"
   ]
  },
  {
   "cell_type": "markdown",
   "metadata": {},
   "source": [
    "#### Handling all special characters\n",
    "\n",
    "We will remove all special characters from the text"
   ]
  },
  {
   "cell_type": "code",
   "execution_count": 48,
   "metadata": {},
   "outputs": [
    {
     "data": {
      "text/plain": [
       "['>', '?', '>', ',', \"'\", '.', '$', '.', '..', ',', ':']"
      ]
     },
     "execution_count": 48,
     "metadata": {},
     "output_type": "execute_result"
    }
   ],
   "source": [
    "re.findall(\"[^A-Za-z0-9\\s]+\",file_contents)"
   ]
  },
  {
   "cell_type": "code",
   "execution_count": 49,
   "metadata": {},
   "outputs": [
    {
     "data": {
      "text/plain": [
       "' anyone knows how much it costs to host a web portal \\n\\nwell it depends on how many visitors youre expecting\\nthis can be anywhere from less than number bucks a month to a couple of number \\nyou should checkout httpaddr or perhaps amazon ecnumber \\nif youre running something big\\n\\nto unsubscribe yourself from this mailing list send an email to\\nemailaddr\\n\\n'"
      ]
     },
     "execution_count": 49,
     "metadata": {},
     "output_type": "execute_result"
    }
   ],
   "source": [
    "file_contents = re.sub(\"[^A-Za-z0-9\\s]+\",\"\",file_contents)\n",
    "file_contents"
   ]
  },
  {
   "cell_type": "markdown",
   "metadata": {},
   "source": [
    "#### Remove \\n from the text"
   ]
  },
  {
   "cell_type": "code",
   "execution_count": 51,
   "metadata": {},
   "outputs": [
    {
     "data": {
      "text/plain": [
       "' anyone knows how much it costs to host a web portal well it depends on how many visitors youre expecting\\nthis can be anywhere from less than number bucks a month to a couple of number \\nyou should checkout httpaddr or perhaps amazon ecnumber \\nif youre running something bigto unsubscribe yourself from this mailing list send an email to\\nemailaddr'"
      ]
     },
     "execution_count": 51,
     "metadata": {},
     "output_type": "execute_result"
    }
   ],
   "source": [
    "re.findall(\"\\n{2,2}\",file_contents)\n",
    "file_contents = re.sub(\"\\n{2,2}\",\"\",file_contents)\n",
    "file_contents"
   ]
  },
  {
   "cell_type": "code",
   "execution_count": 53,
   "metadata": {},
   "outputs": [
    {
     "data": {
      "text/plain": [
       "' anyone knows how much it costs to host a web portal well it depends on how many visitors youre expecting\\nthis can be anywhere from less than number bucks a month to a couple of number you should checkout httpaddr or perhaps amazon ecnumber if youre running something bigto unsubscribe yourself from this mailing list send an email to\\nemailaddr'"
      ]
     },
     "execution_count": 53,
     "metadata": {},
     "output_type": "execute_result"
    }
   ],
   "source": [
    "re.findall(\"\\s\\n\",file_contents)\n",
    "file_contents = re.sub(\"\\s\\n\",\" \",file_contents)\n",
    "file_contents"
   ]
  },
  {
   "cell_type": "code",
   "execution_count": 54,
   "metadata": {},
   "outputs": [
    {
     "data": {
      "text/plain": [
       "' anyone knows how much it costs to host a web portal well it depends on how many visitors youre expecting this can be anywhere from less than number bucks a month to a couple of number you should checkout httpaddr or perhaps amazon ecnumber if youre running something bigto unsubscribe yourself from this mailing list send an email to emailaddr'"
      ]
     },
     "execution_count": 54,
     "metadata": {},
     "output_type": "execute_result"
    }
   ],
   "source": [
    "file_contents = re.sub(\"\\n\",\" \",file_contents)\n",
    "file_contents"
   ]
  },
  {
   "cell_type": "code",
   "execution_count": null,
   "metadata": {},
   "outputs": [],
   "source": []
  },
  {
   "cell_type": "code",
   "execution_count": null,
   "metadata": {},
   "outputs": [],
   "source": []
  },
  {
   "cell_type": "code",
   "execution_count": null,
   "metadata": {},
   "outputs": [],
   "source": []
  },
  {
   "cell_type": "markdown",
   "metadata": {},
   "source": [
    "#### Remove text starting with space"
   ]
  },
  {
   "cell_type": "code",
   "execution_count": 55,
   "metadata": {},
   "outputs": [
    {
     "data": {
      "text/plain": [
       "[' ']"
      ]
     },
     "execution_count": 55,
     "metadata": {},
     "output_type": "execute_result"
    }
   ],
   "source": [
    "re.findall(\"^\\s\",file_contents)"
   ]
  },
  {
   "cell_type": "code",
   "execution_count": 60,
   "metadata": {},
   "outputs": [],
   "source": [
    "file_contents = re.sub(\"^\\s\",\"\",file_contents)"
   ]
  },
  {
   "cell_type": "code",
   "execution_count": 58,
   "metadata": {},
   "outputs": [
    {
     "data": {
      "text/plain": [
       "['B', 'C']"
      ]
     },
     "execution_count": 58,
     "metadata": {},
     "output_type": "execute_result"
    }
   ],
   "source": [
    "dt = 'ABC'\n",
    "\n",
    "re.findall(\"[^A]\",dt) ## that does not contain A in the text (dt)"
   ]
  },
  {
   "cell_type": "code",
   "execution_count": 59,
   "metadata": {},
   "outputs": [
    {
     "data": {
      "text/plain": [
       "['A']"
      ]
     },
     "execution_count": 59,
     "metadata": {},
     "output_type": "execute_result"
    }
   ],
   "source": [
    "re.findall(\"^A\",dt) ## the text should start with A"
   ]
  },
  {
   "cell_type": "markdown",
   "metadata": {},
   "source": [
    "## Cleaned Email text"
   ]
  },
  {
   "cell_type": "code",
   "execution_count": 61,
   "metadata": {},
   "outputs": [
    {
     "data": {
      "text/plain": [
       "'anyone knows how much it costs to host a web portal well it depends on how many visitors youre expecting this can be anywhere from less than number bucks a month to a couple of number you should checkout httpaddr or perhaps amazon ecnumber if youre running something bigto unsubscribe yourself from this mailing list send an email to emailaddr'"
      ]
     },
     "execution_count": 61,
     "metadata": {},
     "output_type": "execute_result"
    }
   ],
   "source": [
    "file_contents"
   ]
  }
 ],
 "metadata": {
  "kernelspec": {
   "display_name": "Python 3",
   "language": "python",
   "name": "python3"
  },
  "language_info": {
   "codemirror_mode": {
    "name": "ipython",
    "version": 3
   },
   "file_extension": ".py",
   "mimetype": "text/x-python",
   "name": "python",
   "nbconvert_exporter": "python",
   "pygments_lexer": "ipython3",
   "version": "3.7.4"
  }
 },
 "nbformat": 4,
 "nbformat_minor": 4
}
