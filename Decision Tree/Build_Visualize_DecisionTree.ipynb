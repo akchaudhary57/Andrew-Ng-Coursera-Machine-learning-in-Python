{
 "cells": [
  {
   "cell_type": "markdown",
   "metadata": {},
   "source": [
    "## Build and Visualize Decision Tree from Scratch - Part 21\n",
    "\n",
    "In this video, we will write machine learning equations to build and visualize decision tree from scratch. We will also use `Graphviz` library to visualize decision tree. In the last video (Part 20), we discussed about finding Best feature and Split value in Decision tree, if you are not familier with these topics, I would recommend you to watch __[Find_BestFeature_SplitValue_Decision Tree.ipynb](https://github.com/akchaudhary57/Andrew-Ng-Coursera-Machine-learning-in-Python/blob/main/Decision%20Tree/Decision%20Tree-BestFeature.ipynb)__"
   ]
  },
  {
   "cell_type": "markdown",
   "metadata": {},
   "source": [
    "## Part 19"
   ]
  },
  {
   "cell_type": "code",
   "execution_count": 1,
   "metadata": {},
   "outputs": [],
   "source": [
    "import pandas as pd # Data manipulation\n",
    "import numpy as np # Scientific computing\n",
    "from sklearn.datasets import load_iris #Inbuild data set found in Sklearn learn \n",
    "import seaborn as sns # For data visualization\n",
    "import matplotlib.pyplot as plt # For data visualization\n",
    "from DecisionTree import * # Used in creating several functions"
   ]
  },
  {
   "cell_type": "markdown",
   "metadata": {},
   "source": [
    "#### Iris Data set\n",
    "We will be using default iris data set for building decision trees. This data sets consists of 3 different `types` of irises’ (Setosa, Versicolour, and Virginica) petal and sepal length"
   ]
  },
  {
   "cell_type": "code",
   "execution_count": 2,
   "metadata": {},
   "outputs": [],
   "source": [
    "iris = load_iris() # loading default data set"
   ]
  },
  {
   "cell_type": "code",
   "execution_count": 3,
   "metadata": {},
   "outputs": [],
   "source": [
    "X = iris.data # Setting values to X\n",
    "y= iris.target # Setting values to y"
   ]
  },
  {
   "cell_type": "code",
   "execution_count": 4,
   "metadata": {},
   "outputs": [
    {
     "data": {
      "text/plain": [
       "array([0, 0, 0, 0, 0])"
      ]
     },
     "execution_count": 4,
     "metadata": {},
     "output_type": "execute_result"
    }
   ],
   "source": [
    "y[:5]"
   ]
  },
  {
   "cell_type": "markdown",
   "metadata": {},
   "source": [
    "#### Convert numerical target variable to catagorical variable "
   ]
  },
  {
   "cell_type": "code",
   "execution_count": 5,
   "metadata": {},
   "outputs": [],
   "source": [
    "y_numeric = lambda y: 'Iris-setosa' if y==0 else ('Iris-versicolor' if y==1  else 'Iris-Virginica') # Converting numeric to catagorical\n",
    "vfunc = np.vectorize(y_numeric)  # We need to vectorize\n",
    "y = vfunc(y)"
   ]
  },
  {
   "cell_type": "code",
   "execution_count": 6,
   "metadata": {},
   "outputs": [
    {
     "data": {
      "text/plain": [
       "array(['Iris-setosa', 'Iris-setosa', 'Iris-setosa', 'Iris-setosa',\n",
       "       'Iris-setosa'], dtype='<U15')"
      ]
     },
     "execution_count": 6,
     "metadata": {},
     "output_type": "execute_result"
    }
   ],
   "source": [
    "y[:5] # Checking top 4 rows"
   ]
  },
  {
   "cell_type": "markdown",
   "metadata": {},
   "source": [
    "#### Loading data into dataframe"
   ]
  },
  {
   "cell_type": "code",
   "execution_count": 7,
   "metadata": {},
   "outputs": [],
   "source": [
    "df = pd.DataFrame(X,columns = ['sepal_length','sepal_width','petal_length','petal_width']) # Loading data in data frame"
   ]
  },
  {
   "cell_type": "code",
   "execution_count": 8,
   "metadata": {},
   "outputs": [],
   "source": [
    "df['Label'] = y # Adding new columns to the dataframe"
   ]
  },
  {
   "cell_type": "code",
   "execution_count": 9,
   "metadata": {},
   "outputs": [],
   "source": [
    "df['Label'] = df['Label'].astype('category')"
   ]
  },
  {
   "cell_type": "code",
   "execution_count": 10,
   "metadata": {},
   "outputs": [],
   "source": [
    "data = df.values # Converting dataframe to numpy array"
   ]
  },
  {
   "cell_type": "code",
   "execution_count": 11,
   "metadata": {},
   "outputs": [
    {
     "data": {
      "text/plain": [
       "array([[5.1, 3.5, 1.4, 0.2, 'Iris-setosa'],\n",
       "       [4.9, 3.0, 1.4, 0.2, 'Iris-setosa'],\n",
       "       [4.7, 3.2, 1.3, 0.2, 'Iris-setosa'],\n",
       "       [4.6, 3.1, 1.5, 0.2, 'Iris-setosa'],\n",
       "       [5.0, 3.6, 1.4, 0.2, 'Iris-setosa']], dtype=object)"
      ]
     },
     "execution_count": 11,
     "metadata": {},
     "output_type": "execute_result"
    }
   ],
   "source": [
    "data[:5] # Checking top 4 rows"
   ]
  },
  {
   "cell_type": "code",
   "execution_count": 12,
   "metadata": {},
   "outputs": [
    {
     "data": {
      "text/plain": [
       "[Iris-setosa, Iris-versicolor, Iris-Virginica]\n",
       "Categories (3, object): [Iris-setosa, Iris-versicolor, Iris-Virginica]"
      ]
     },
     "execution_count": 12,
     "metadata": {},
     "output_type": "execute_result"
    }
   ],
   "source": [
    "df['Label'].unique()"
   ]
  },
  {
   "cell_type": "markdown",
   "metadata": {},
   "source": [
    "#### Visualizing data using Seaborn\n",
    "\n",
    "In this visualization, we will take x-coordinate as `petal width` and y-coordinate as `petal length`"
   ]
  },
  {
   "cell_type": "code",
   "execution_count": 13,
   "metadata": {},
   "outputs": [
    {
     "data": {
      "image/png": "[encoded data removed]",
      "text/plain": [
       "<Figure size 463.25x360 with 1 Axes>"
      ]
     },
     "metadata": {
      "needs_background": "light"
     },
     "output_type": "display_data"
    }
   ],
   "source": [
    "sns.lmplot(data= df, x = \"petal_width\",y=\"petal_length\",hue= 'Label',fit_reg = False) # using linear model plot \n",
    "plt.vlines(x=0.8,ymin = 1,ymax = 7)\n",
    "plt.show()"
   ]
  },
  {
   "cell_type": "markdown",
   "metadata": {},
   "source": [
    "### Split data\n",
    "As in the decision tree, we split our data based on `Yes` and `No` questions. We need to create a split_data function that does the split operation. In the function below, `data_below` shows split to 'left' and `data_above` shows split to right."
   ]
  },
  {
   "cell_type": "code",
   "execution_count": 14,
   "metadata": {},
   "outputs": [],
   "source": [
    "def split_data(data,split_column,split_value):\n",
    "    \"\"\" Split data based on column name and split value\"\"\"\n",
    "    split_columns = data[:,split_column]\n",
    "    data_below = data[split_columns<=split_value] # this gives data less than the split value\n",
    "    data_above = data[split_columns>split_value] # this gives data less than the split value\n",
    "    \n",
    "    return data_below,data_above"
   ]
  },
  {
   "cell_type": "markdown",
   "metadata": {},
   "source": [
    "Checking the functionality of `Split_data` function"
   ]
  },
  {
   "cell_type": "code",
   "execution_count": 15,
   "metadata": {},
   "outputs": [],
   "source": [
    "data_below,data_above = split_data(data,3,0.8) # Randomly choosing split columns and split values"
   ]
  },
  {
   "cell_type": "code",
   "execution_count": 16,
   "metadata": {},
   "outputs": [
    {
     "data": {
      "text/plain": [
       "array([[5.1, 3.5, 1.4, 0.2, 'Iris-setosa'],\n",
       "       [4.9, 3.0, 1.4, 0.2, 'Iris-setosa'],\n",
       "       [4.7, 3.2, 1.3, 0.2, 'Iris-setosa'],\n",
       "       [4.6, 3.1, 1.5, 0.2, 'Iris-setosa'],\n",
       "       [5.0, 3.6, 1.4, 0.2, 'Iris-setosa']], dtype=object)"
      ]
     },
     "execution_count": 16,
     "metadata": {},
     "output_type": "execute_result"
    }
   ],
   "source": [
    "data_below[:5] # Checking top 5 values"
   ]
  },
  {
   "cell_type": "markdown",
   "metadata": {},
   "source": [
    "`Entropy` is used to measure the randomness or impurities in the model.`Entropy` controls how a Decision Tree decides to split the data. It actually effects how a Decision Tree draws its boundaries. The `calculate_entropy` function performs the calculation of entropy. The logic would be: -\n",
    "1. Calculate unique value of dependent variable. In irris data set, the dependent variable is 'Label' column in df dataframe.\n",
    "2. Calculate probability of dependent variable\n",
    "3. Use above formula to perform calculations\n",
    "\n",
    "![Entropy](Decision/understanding_decision_trees_with_python_gini_impurity_2_1.png)"
   ]
  },
  {
   "cell_type": "code",
   "execution_count": 17,
   "metadata": {},
   "outputs": [],
   "source": [
    "def calculate_entropy(data):\n",
    "    \"\"\"Calculate entropy based on dependent variable (label)\"\"\"\n",
    "    label_columns = data[:,-1] # -1 gives last variable\n",
    "    counts = np.unique(label_columns,return_counts = True)[1] # To generate unique value and [1] means to take 2nd item of list.\n",
    "    probability = counts/counts.sum() # To Compute probability\n",
    "    entropy = sum(probability* -np.log2(probability)) # To Compute entropy\n",
    "    return entropy,probability # To return entropy and probability"
   ]
  },
  {
   "cell_type": "code",
   "execution_count": 18,
   "metadata": {},
   "outputs": [],
   "source": [
    "# Checking the entropy of data below\n",
    "entropy,probability = calculate_entropy(data_below)"
   ]
  },
  {
   "cell_type": "code",
   "execution_count": 19,
   "metadata": {},
   "outputs": [
    {
     "data": {
      "text/plain": [
       "(0.0, array([1.]))"
      ]
     },
     "execution_count": 19,
     "metadata": {},
     "output_type": "execute_result"
    }
   ],
   "source": [
    "entropy,probability "
   ]
  },
  {
   "cell_type": "markdown",
   "metadata": {},
   "source": [
    "__Interpretation:-__ As we se entropy as 0 and probability of 1 for `data_below`. This tells us that we do not have impurities or randomness in the data."
   ]
  },
  {
   "cell_type": "code",
   "execution_count": 20,
   "metadata": {},
   "outputs": [],
   "source": [
    "# Checking the entropy of data above\n",
    "entropy,probability =  calculate_entropy(data_above)"
   ]
  },
  {
   "cell_type": "code",
   "execution_count": 21,
   "metadata": {},
   "outputs": [
    {
     "data": {
      "text/plain": [
       "(1.0, array([0.5, 0.5]))"
      ]
     },
     "execution_count": 21,
     "metadata": {},
     "output_type": "execute_result"
    }
   ],
   "source": [
    "entropy,probability"
   ]
  },
  {
   "cell_type": "markdown",
   "metadata": {},
   "source": [
    "__Interpretation:-__ As we se entropy as 1 and probability of 0.5 for `data_above`. This tells us that we have maximum impurities or randomness in the data for `data_above`."
   ]
  },
  {
   "cell_type": "markdown",
   "metadata": {},
   "source": [
    "__Gini__ also measures the impurity of a node. `Gini index` and `entropy` are the criteria for calculating information gain. Decision tree algorithms use information gain to split a node. A node having multiple classes is impure whereas a node having only one class is pure.\n",
    "\n",
    "![GINI INDEX](Decision/GINI_INDEX.png)"
   ]
  },
  {
   "cell_type": "code",
   "execution_count": 22,
   "metadata": {},
   "outputs": [],
   "source": [
    "def calculate_giniindex(data):\n",
    "    \"\"\"Calculate Gini Index based on Dependent variable (Label)\"\"\"\n",
    "    label_columns = data[:,-1] # -1 gives last variable\n",
    "    counts = np.unique(label_columns,return_counts = True)[1] # To generate unique value and [1] means to take 2nd item of list\n",
    "    probability = counts/counts.sum() # To Compute probability\n",
    "    GINIIndex = (1 - np.sum(probability**2,axis = 0)) # To Compute GINI\n",
    "    return GINIIndex,probability # To return GINI and probability"
   ]
  },
  {
   "cell_type": "code",
   "execution_count": 23,
   "metadata": {},
   "outputs": [],
   "source": [
    "GINIIndex,probability = calculate_giniindex(data_below)"
   ]
  },
  {
   "cell_type": "code",
   "execution_count": 24,
   "metadata": {},
   "outputs": [
    {
     "data": {
      "text/plain": [
       "(0.0, array([1.]))"
      ]
     },
     "execution_count": 24,
     "metadata": {},
     "output_type": "execute_result"
    }
   ],
   "source": [
    "GINIIndex,probability"
   ]
  },
  {
   "cell_type": "markdown",
   "metadata": {},
   "source": [
    "__Interpretation:-__ As we see GINI Index as 0 and probability as 1 for `data_below`. This tells us that we do not have impurities or randomness in the data."
   ]
  },
  {
   "cell_type": "code",
   "execution_count": 25,
   "metadata": {},
   "outputs": [],
   "source": [
    "GINIIndex,probability = calculate_giniindex(data_above)"
   ]
  },
  {
   "cell_type": "code",
   "execution_count": 26,
   "metadata": {},
   "outputs": [
    {
     "data": {
      "text/plain": [
       "(0.5, array([0.5, 0.5]))"
      ]
     },
     "execution_count": 26,
     "metadata": {},
     "output_type": "execute_result"
    }
   ],
   "source": [
    "GINIIndex,probability"
   ]
  },
  {
   "cell_type": "markdown",
   "metadata": {},
   "source": [
    "__Interpretation:-__ As we see GINI Index as 0.5 and probability as 1 for `data_above`. This tells us that we do not have impurities or randomness in the data."
   ]
  },
  {
   "cell_type": "markdown",
   "metadata": {},
   "source": [
    "## Difference between GINI Index and Entropy\n",
    "\n",
    "1. `Gini Index`, At probability 0.5, the `GINI index` is 0.5, whereas, at probability 1, the `Entropy` is 1.\n",
    "2. As `Entropy` involves log transformation, it is computationally expensive compared to `Entropy`."
   ]
  },
  {
   "cell_type": "markdown",
   "metadata": {},
   "source": [
    "### Information Gain"
   ]
  },
  {
   "cell_type": "markdown",
   "metadata": {},
   "source": [
    "`Information Gain` assist us to decide which feature to use to split the data. `Information Gain` is calculated for a split by subtracting the weighted entropies of each branch from the original entropy. When training a Decision Tree using these metrics, the best split is chosen by maximizing Information Gain\n",
    "\n",
    "![Information Gain](Decision/Information_Gain.png)"
   ]
  },
  {
   "cell_type": "markdown",
   "metadata": {},
   "source": [
    "We have taken an example of COVID 19 data to calculate entropy, gini index and Information gain"
   ]
  },
  {
   "cell_type": "code",
   "execution_count": 27,
   "metadata": {},
   "outputs": [],
   "source": [
    "# Writing equations to calulate entropy using Lambda\n",
    "Proir_Entropy = lambda x,y:-x/(x+y)*np.log2(x/(x+y))-y/(x+y)*np.log2(y/(x+y)) "
   ]
  },
  {
   "cell_type": "code",
   "execution_count": 28,
   "metadata": {},
   "outputs": [
    {
     "data": {
      "text/plain": [
       "0.9709505944546686"
      ]
     },
     "execution_count": 28,
     "metadata": {},
     "output_type": "execute_result"
    }
   ],
   "source": [
    "Proir_Entropy(2,3)"
   ]
  },
  {
   "cell_type": "code",
   "execution_count": 29,
   "metadata": {},
   "outputs": [],
   "source": [
    "# Writing equations to calulate Gini index using Lambda\n",
    "Prior_GINIindex = lambda x,y:1- ((x/(x+y))**2+(y/(x+y))**2) # Writing equations to calulate entropy"
   ]
  },
  {
   "cell_type": "code",
   "execution_count": 30,
   "metadata": {},
   "outputs": [
    {
     "data": {
      "text/plain": [
       "0.48"
      ]
     },
     "execution_count": 30,
     "metadata": {},
     "output_type": "execute_result"
    }
   ],
   "source": [
    "Prior_GINIindex(2,3)"
   ]
  },
  {
   "cell_type": "markdown",
   "metadata": {},
   "source": [
    "Calculating Entropy for Cough"
   ]
  },
  {
   "cell_type": "code",
   "execution_count": 31,
   "metadata": {},
   "outputs": [],
   "source": [
    "Result = 2/5*Proir_Entropy(1,1)+3/5*Proir_Entropy(2,1) # Cough"
   ]
  },
  {
   "cell_type": "code",
   "execution_count": 32,
   "metadata": {},
   "outputs": [],
   "source": [
    "Information_Gain = Proir_Entropy(2,3)-Result # Cough"
   ]
  },
  {
   "cell_type": "code",
   "execution_count": 33,
   "metadata": {},
   "outputs": [
    {
     "data": {
      "text/plain": [
       "0.01997309402197489"
      ]
     },
     "execution_count": 33,
     "metadata": {},
     "output_type": "execute_result"
    }
   ],
   "source": [
    "Information_Gain # Cough"
   ]
  },
  {
   "cell_type": "markdown",
   "metadata": {},
   "source": [
    "Calculating Gini Index for Cough"
   ]
  },
  {
   "cell_type": "code",
   "execution_count": 34,
   "metadata": {},
   "outputs": [],
   "source": [
    "Result = 2/5*Prior_GINIindex(1,1)+3/5*Prior_GINIindex(2,1) # Cough"
   ]
  },
  {
   "cell_type": "code",
   "execution_count": 35,
   "metadata": {},
   "outputs": [],
   "source": [
    "Information_Gain = Prior_GINIindex(2,3)-Result # Cough"
   ]
  },
  {
   "cell_type": "code",
   "execution_count": 36,
   "metadata": {},
   "outputs": [
    {
     "data": {
      "text/plain": [
       "0.013333333333333308"
      ]
     },
     "execution_count": 36,
     "metadata": {},
     "output_type": "execute_result"
    }
   ],
   "source": [
    "Information_Gain"
   ]
  },
  {
   "cell_type": "markdown",
   "metadata": {},
   "source": [
    "Calculating Entropy for Fever"
   ]
  },
  {
   "cell_type": "code",
   "execution_count": 37,
   "metadata": {},
   "outputs": [],
   "source": [
    "import warnings\n",
    "warnings.filterwarnings(\"ignore\") # library to ignore warnings\n",
    "\n",
    "Result = 2/5*Proir_Entropy(2,0)+3/5*Proir_Entropy(1,2) # Fever"
   ]
  },
  {
   "cell_type": "code",
   "execution_count": 38,
   "metadata": {},
   "outputs": [],
   "source": [
    "Result = 3/5*Proir_Entropy(1,2)"
   ]
  },
  {
   "cell_type": "code",
   "execution_count": 39,
   "metadata": {},
   "outputs": [],
   "source": [
    "Information_Gain = Proir_Entropy(2,3)-Result # Fever"
   ]
  },
  {
   "cell_type": "code",
   "execution_count": 40,
   "metadata": {},
   "outputs": [
    {
     "data": {
      "text/plain": [
       "0.4199730940219749"
      ]
     },
     "execution_count": 40,
     "metadata": {},
     "output_type": "execute_result"
    }
   ],
   "source": [
    "Information_Gain"
   ]
  },
  {
   "cell_type": "markdown",
   "metadata": {},
   "source": [
    "Calculating GINI Index for Fever"
   ]
  },
  {
   "cell_type": "code",
   "execution_count": 41,
   "metadata": {},
   "outputs": [],
   "source": [
    "Result = 2/5*Prior_GINIindex(2,0)+3/5*Prior_GINIindex(1,2) # Cough"
   ]
  },
  {
   "cell_type": "code",
   "execution_count": 42,
   "metadata": {},
   "outputs": [],
   "source": [
    "Information_Gain = Prior_GINIindex(2,3)-Result # Cough"
   ]
  },
  {
   "cell_type": "code",
   "execution_count": 43,
   "metadata": {},
   "outputs": [
    {
     "data": {
      "text/plain": [
       "0.21333333333333332"
      ]
     },
     "execution_count": 43,
     "metadata": {},
     "output_type": "execute_result"
    }
   ],
   "source": [
    "Information_Gain"
   ]
  },
  {
   "cell_type": "markdown",
   "metadata": {},
   "source": [
    "__Interpretation:-__ Highest information gain will be our first feature to split data in decision tree, which as per the example is Fever."
   ]
  },
  {
   "cell_type": "code",
   "execution_count": null,
   "metadata": {},
   "outputs": [],
   "source": []
  },
  {
   "cell_type": "markdown",
   "metadata": {},
   "source": [
    "## Part 20"
   ]
  },
  {
   "cell_type": "markdown",
   "metadata": {},
   "source": [
    "### Steps to build a Decision Tree\n",
    "\n",
    "1. `Check Purity`: - We will return boolean value as `True` or `False` based on dependent variable. If we do not need to split then we will return `True` otherwise `False`.\n",
    "2. `Classify data`: - We will return maximum count of the dependent variable based on checking impuries yield from point 1.\n",
    "3. `Split_data Function`:- As in the decision tree, we split our data based on `Yes` and `No` questions. We need to create a split_data function that does the split operation. In the function below, `data_below` shows split to 'left' and `data_above` shows split to right\n",
    "4. `Calculate Entropy or Gini Index`: - Gini or Entropy measures the impurity of a node. The lowest entropy or Gini Index gives us the best split.\n",
    "5. `Calculate Overall Entropy or Gini Index`:- We need to calulate Over all Entropy or Gini Index because once we split data based on `Yes` or `No` questions we need to calculate overall entropy in the data. The lowest entropy or Gini Index gives the best split.\n",
    "6. `Potential Split`:- We will calculate mean of two points which will yield in potential split.\n",
    "7. `Determine Best Split`: - Based on Potential Split, we split our data and will calculate overall Gini Index. The overall Gini index will the lowest value will be our best feature and split value.\n",
    "8. `Decision Tree algorithm`: - We will merge all necessary functions and apply recursive function to build decision tree.\n",
    "9. `Visualize Decision Tree`: - We will finally visualise decision tree using `graphviz` library."
   ]
  },
  {
   "cell_type": "markdown",
   "metadata": {},
   "source": [
    "__1. `Check Purity`__:- We will return boolean value as `True` or `False` based on dependent variable. If we do not need to split the data then we will return `True` otherwise `False`."
   ]
  },
  {
   "cell_type": "code",
   "execution_count": 46,
   "metadata": {},
   "outputs": [],
   "source": [
    "def check_purity(df):\n",
    "    \"\"\" Return Boolean value based on dependent variable \"\"\"\n",
    "    df = df[:,-1] #\n",
    "    uniquedata,uniquecount = np.unique(df,return_counts = True)\n",
    "    if len(uniquedata) ==1:\n",
    "        return True\n",
    "    else:\n",
    "        return False"
   ]
  },
  {
   "cell_type": "markdown",
   "metadata": {},
   "source": [
    "__2. `Classify data`: -__ We will return maximum count of the dependent variable based on impuries found in point 1.\n"
   ]
  },
  {
   "cell_type": "code",
   "execution_count": 48,
   "metadata": {},
   "outputs": [],
   "source": [
    "def classify_data(df):\n",
    "    \"\"\"Returns maximum count of the dependent variable based on impuries found in point 1\"\"\"\n",
    "    df = df[:,-1]\n",
    "    uniquedata,uniquecount = np.unique(df,return_counts = True)\n",
    "    classify = uniquedata[np.argmax(uniquecount)]\n",
    "    return classify"
   ]
  },
  {
   "cell_type": "markdown",
   "metadata": {},
   "source": [
    "__3. `Split_data Function`:-__ As in the decision tree, we split our data based on `Yes` and `No` questions. We need to create a split_data function that does the split operation. In the function below, `data_below` shows split to 'left' and `data_above` shows split to right "
   ]
  },
  {
   "cell_type": "code",
   "execution_count": 49,
   "metadata": {},
   "outputs": [],
   "source": [
    "def split_data(data,split_column,split_value):\n",
    "    \"\"\" Split data based on column name and split value\"\"\"\n",
    "    split_columns = data[:,split_column]\n",
    "    data_below = data[split_columns<=split_value] # this gives data less than the split value\n",
    "    data_above = data[split_columns>split_value] # this gives data less than the split value\n",
    "    \n",
    "    return data_below,data_above"
   ]
  },
  {
   "cell_type": "markdown",
   "metadata": {},
   "source": [
    "__4. `Calculate Entropy or Gini Index`: -__ Gini or Entropy measures the impurity of a node. The lowest entropy or Gini Index gives us the best split."
   ]
  },
  {
   "cell_type": "code",
   "execution_count": 50,
   "metadata": {},
   "outputs": [],
   "source": [
    "def calculate_entropy(data):\n",
    "    \"\"\"Calculate entropy based on dependent variable (label)\"\"\"\n",
    "    label_columns = data[:,-1] # -1 gives last variable\n",
    "    counts = np.unique(label_columns,return_counts = True)[1] # To generate unique value and [1] means to take 2nd item of list.\n",
    "    probability = counts/counts.sum() # To Compute probability\n",
    "    entropy = sum(probability* -np.log2(probability)) # To Compute entropy\n",
    "    return entropy,probability # To return entropy and probability\n",
    "\n",
    "def calculate_giniindex(data):\n",
    "    \"\"\"Calculate Gini Index based on Dependent variable (Label)\"\"\"\n",
    "    label_columns = data[:,-1] # -1 gives last variable\n",
    "    counts = np.unique(label_columns,return_counts = True)[1] # To generate unique value and [1] means to take 2nd item of list\n",
    "    probability = counts/counts.sum() # To Compute probability\n",
    "    GINIIndex = (1 - np.sum(probability**2,axis = 0)) # To Compute GINI\n",
    "    return GINIIndex,probability # To return GINI and probability"
   ]
  },
  {
   "cell_type": "markdown",
   "metadata": {},
   "source": [
    "5. `Calculate Overall Entropy or Gini Index`:- We need to calulate Over all Entropy or Gini Index because once we split data based on `Yes` or `No` questions,again, we need to calculate overall entropy in the data. Finally, the lowest entropy or Gini Index gives the best split."
   ]
  },
  {
   "cell_type": "code",
   "execution_count": 51,
   "metadata": {},
   "outputs": [],
   "source": [
    "def OverallEntropy(data_below,data_above):\n",
    "    \"\"\"Data below and Data above is retrieved from split_data function\"\"\"\n",
    "    new_entropy_below,_ = calculate_entropy(data_below)\n",
    "    new_entropy_above,_ = calculate_entropy(data_above)\n",
    "    Probability_below = len(data_below)/(len(data_below)+len(data_above))\n",
    "    Probability_above = len(data_above)/(len(data_below)+len(data_above))\n",
    "    overall_entropy = new_entropy_below*Probability_below+new_entropy_above*Probability_above\n",
    "    return overall_entropy\n",
    "\n",
    "def OverallGiniIndex(data_below,data_above):\n",
    "    \"\"\"Data below and Data above is retrieved from split_data function\"\"\"\n",
    "    new_entropy_below,_ = calculate_giniindex(data_below)\n",
    "    new_entropy_above,_ = calculate_giniindex(data_above)\n",
    "    Probability_below = len(data_below)/(len(data_below)+len(data_above))\n",
    "    Probability_above = len(data_above)/(len(data_below)+len(data_above))\n",
    "    overall_entropy = new_entropy_below*Probability_below+new_entropy_above*Probability_above\n",
    "    return overall_entropy"
   ]
  },
  {
   "cell_type": "markdown",
   "metadata": {},
   "source": [
    "6. `Potential Split`:- We will calculate mean of two points which will yield in potential split.\n"
   ]
  },
  {
   "cell_type": "code",
   "execution_count": 52,
   "metadata": {},
   "outputs": [],
   "source": [
    "def potential_split(data):\n",
    "        \"\"\"Calculate the mean of two points to determine potential split\"\"\"\n",
    "        potential_splitdata = {}\n",
    "        data = data[:,:-1]\n",
    "        columns = data.shape[1]\n",
    "        for key in range(columns):\n",
    "            data1 = data[:,key]\n",
    "            uniquedata = np.unique(data1)\n",
    "            potential_splitdata[key] = []\n",
    "            for index in range(len(uniquedata)):\n",
    "                    if index!=0:\n",
    "                        current_value = uniquedata[index]\n",
    "                        previous_value = uniquedata[index-1]\n",
    "                        potential_split = (current_value+previous_value)/2\n",
    "                        potential_splitdata[key].append(potential_split)\n",
    "        return potential_splitdata"
   ]
  },
  {
   "cell_type": "code",
   "execution_count": 53,
   "metadata": {},
   "outputs": [],
   "source": [
    "Potentialsplit_data = potential_split(data)"
   ]
  },
  {
   "cell_type": "code",
   "execution_count": 54,
   "metadata": {},
   "outputs": [
    {
     "data": {
      "text/plain": [
       "[0.15000000000000002,\n",
       " 0.25,\n",
       " 0.35,\n",
       " 0.45,\n",
       " 0.55,\n",
       " 0.8,\n",
       " 1.05,\n",
       " 1.15,\n",
       " 1.25,\n",
       " 1.35,\n",
       " 1.45,\n",
       " 1.55,\n",
       " 1.65,\n",
       " 1.75,\n",
       " 1.85,\n",
       " 1.95,\n",
       " 2.05,\n",
       " 2.1500000000000004,\n",
       " 2.25,\n",
       " 2.3499999999999996,\n",
       " 2.45]"
      ]
     },
     "execution_count": 54,
     "metadata": {},
     "output_type": "execute_result"
    }
   ],
   "source": [
    "Potentialsplit_data[3]"
   ]
  },
  {
   "cell_type": "markdown",
   "metadata": {},
   "source": [
    "Visualize potentail split"
   ]
  },
  {
   "cell_type": "code",
   "execution_count": 55,
   "metadata": {},
   "outputs": [
    {
     "data": {
      "image/png": "[encoded data removed]",
      "text/plain": [
       "<Figure size 463.25x360 with 1 Axes>"
      ]
     },
     "metadata": {
      "needs_background": "light"
     },
     "output_type": "display_data"
    }
   ],
   "source": [
    "sns.lmplot(data= df, x = \"petal_width\",y=\"petal_length\",hue = \"Label\",fit_reg = False)\n",
    "plt.vlines(x=Potentialsplit_data[3],ymin = 1,ymax = 7)\n",
    "plt.show()"
   ]
  },
  {
   "cell_type": "markdown",
   "metadata": {},
   "source": [
    "7. `Determine Best Split`: - Based on Potential Split, we split our data and then we calculate overall Gini Index. The overall Gini index will the lowest value will be our best feature and split value."
   ]
  },
  {
   "cell_type": "code",
   "execution_count": 56,
   "metadata": {},
   "outputs": [],
   "source": [
    "def determine_best_split(data,potential_splits):\n",
    "        \"\"\"Based on potential_split we calcuate lowest overall Gini Index\"\"\"\n",
    "        overall_GiniIndex = 9999\n",
    "        for column_index in potential_splits:\n",
    "            for value in potential_splits[column_index]:\n",
    "                data_below, data_above = split_data(data, split_column=column_index, split_value=value)\n",
    "                current_overall_GiniIndex = OverallGiniIndex(data_below, data_above)\n",
    "\n",
    "                if current_overall_GiniIndex <= overall_GiniIndex:\n",
    "                    overall_GiniIndex = current_overall_GiniIndex\n",
    "                    best_split_column = column_index\n",
    "                    best_split_value = value\n",
    "\n",
    "        return best_split_column, best_split_value"
   ]
  },
  {
   "cell_type": "code",
   "execution_count": 57,
   "metadata": {},
   "outputs": [],
   "source": [
    "BestFeature,Best_Split_value = determine_best_split(data,Potentialsplit_data)"
   ]
  },
  {
   "cell_type": "code",
   "execution_count": 58,
   "metadata": {},
   "outputs": [
    {
     "data": {
      "text/plain": [
       "('petal_width', 0.8)"
      ]
     },
     "execution_count": 58,
     "metadata": {},
     "output_type": "execute_result"
    }
   ],
   "source": [
    "df.columns[BestFeature],Best_Split_value"
   ]
  },
  {
   "cell_type": "code",
   "execution_count": 59,
   "metadata": {},
   "outputs": [
    {
     "data": {
      "text/html": [
       "<div>\n",
       "<style scoped>\n",
       "    .dataframe tbody tr th:only-of-type {\n",
       "        vertical-align: middle;\n",
       "    }\n",
       "\n",
       "    .dataframe tbody tr th {\n",
       "        vertical-align: top;\n",
       "    }\n",
       "\n",
       "    .dataframe thead th {\n",
       "        text-align: right;\n",
       "    }\n",
       "</style>\n",
       "<table border=\"1\" class=\"dataframe\">\n",
       "  <thead>\n",
       "    <tr style=\"text-align: right;\">\n",
       "      <th></th>\n",
       "      <th>sepal_length</th>\n",
       "      <th>sepal_width</th>\n",
       "      <th>petal_length</th>\n",
       "      <th>petal_width</th>\n",
       "      <th>Label</th>\n",
       "    </tr>\n",
       "  </thead>\n",
       "  <tbody>\n",
       "    <tr>\n",
       "      <th>0</th>\n",
       "      <td>5.1</td>\n",
       "      <td>3.5</td>\n",
       "      <td>1.4</td>\n",
       "      <td>0.2</td>\n",
       "      <td>Iris-setosa</td>\n",
       "    </tr>\n",
       "    <tr>\n",
       "      <th>1</th>\n",
       "      <td>4.9</td>\n",
       "      <td>3.0</td>\n",
       "      <td>1.4</td>\n",
       "      <td>0.2</td>\n",
       "      <td>Iris-setosa</td>\n",
       "    </tr>\n",
       "    <tr>\n",
       "      <th>2</th>\n",
       "      <td>4.7</td>\n",
       "      <td>3.2</td>\n",
       "      <td>1.3</td>\n",
       "      <td>0.2</td>\n",
       "      <td>Iris-setosa</td>\n",
       "    </tr>\n",
       "    <tr>\n",
       "      <th>3</th>\n",
       "      <td>4.6</td>\n",
       "      <td>3.1</td>\n",
       "      <td>1.5</td>\n",
       "      <td>0.2</td>\n",
       "      <td>Iris-setosa</td>\n",
       "    </tr>\n",
       "    <tr>\n",
       "      <th>4</th>\n",
       "      <td>5.0</td>\n",
       "      <td>3.6</td>\n",
       "      <td>1.4</td>\n",
       "      <td>0.2</td>\n",
       "      <td>Iris-setosa</td>\n",
       "    </tr>\n",
       "  </tbody>\n",
       "</table>\n",
       "</div>"
      ],
      "text/plain": [
       "   sepal_length  sepal_width  petal_length  petal_width        Label\n",
       "0           5.1          3.5           1.4          0.2  Iris-setosa\n",
       "1           4.9          3.0           1.4          0.2  Iris-setosa\n",
       "2           4.7          3.2           1.3          0.2  Iris-setosa\n",
       "3           4.6          3.1           1.5          0.2  Iris-setosa\n",
       "4           5.0          3.6           1.4          0.2  Iris-setosa"
      ]
     },
     "execution_count": 59,
     "metadata": {},
     "output_type": "execute_result"
    }
   ],
   "source": [
    "df.head()"
   ]
  },
  {
   "cell_type": "markdown",
   "metadata": {},
   "source": [
    "8. `Decision Tree algorithm`: - We will merge all necessary functions and apply recursive function to build decision tree."
   ]
  },
  {
   "cell_type": "code",
   "execution_count": 123,
   "metadata": {},
   "outputs": [],
   "source": [
    "def decision_tree_algorithm(df,counter = 0,min_sample =2,max_depth =5):\n",
    "    \n",
    "    if counter ==0:\n",
    "        data = df.values\n",
    "        global Column_header\n",
    "        Column_header = df.columns\n",
    "    else:\n",
    "        data = df\n",
    "    \n",
    "    \n",
    "    if check_purity(data) or (len(data) <= min_sample) or (counter == max_depth): # if only one dependent variable that means I have nothing to split then I will simply return the variable.\n",
    "        classify = classify_data(data)\n",
    "        return classify\n",
    "    else:\n",
    "        counter +=1\n",
    "        Potentialsplit_data = potential_split(data) # If we have more than one dependent variable\n",
    "        BestFeature, Split_Value = determine_best_split(data,Potentialsplit_data) # Find best feature and split value\n",
    "        data_below,data_above = split_data(data,split_column = BestFeature,split_value = Split_Value) # Split the data\n",
    "        \n",
    "        feature = Column_header[BestFeature] # Get column name\n",
    "        Tree = \"{} <= {}\".format(feature,Split_Value) # Store result in a dictionary\n",
    "        sub_tree = {Tree:[]}\n",
    "        \n",
    "        # Recursive function\n",
    "        True_answer = decision_tree_algorithm(data_below,counter,min_sample,max_depth)\n",
    "        False_answer = decision_tree_algorithm(data_above,counter,min_sample,max_depth)\n",
    "        \n",
    "        # Visulize the result we append the split\n",
    "        sub_tree[Tree].append(True_answer)\n",
    "        sub_tree[Tree].append(False_answer)\n",
    "\n",
    "        \n",
    "        return sub_tree\n",
    "     "
   ]
  },
  {
   "cell_type": "code",
   "execution_count": 130,
   "metadata": {},
   "outputs": [],
   "source": [
    "sub_tree = decision_tree_algorithm(df,max_depth =4)"
   ]
  },
  {
   "cell_type": "code",
   "execution_count": 131,
   "metadata": {},
   "outputs": [
    {
     "data": {
      "text/plain": [
       "{'petal_width <= 0.8': ['Iris-setosa',\n",
       "  {'petal_width <= 1.75': [{'petal_length <= 4.95': [{'petal_width <= 1.65': ['Iris-versicolor',\n",
       "        'Iris-Virginica']},\n",
       "      {'petal_width <= 1.55': ['Iris-Virginica', 'Iris-versicolor']}]},\n",
       "    {'petal_length <= 4.85': [{'sepal_width <= 3.1': ['Iris-Virginica',\n",
       "        'Iris-versicolor']},\n",
       "      'Iris-Virginica']}]}]}"
      ]
     },
     "execution_count": 131,
     "metadata": {},
     "output_type": "execute_result"
    }
   ],
   "source": [
    "sub_tree"
   ]
  },
  {
   "cell_type": "code",
   "execution_count": 95,
   "metadata": {},
   "outputs": [
    {
     "data": {
      "text/plain": [
       "'petal_width'"
      ]
     },
     "execution_count": 95,
     "metadata": {},
     "output_type": "execute_result"
    }
   ],
   "source": [
    "df.columns[3]"
   ]
  },
  {
   "cell_type": "code",
   "execution_count": 69,
   "metadata": {},
   "outputs": [],
   "source": [
    "#def factorial(x):\n",
    " #   if x==1:\n",
    "  #      return 1\n",
    "   # else:\n",
    "    #    return x*factorial(x-1)"
   ]
  },
  {
   "cell_type": "code",
   "execution_count": 71,
   "metadata": {},
   "outputs": [
    {
     "data": {
      "text/plain": [
       "2"
      ]
     },
     "execution_count": 71,
     "metadata": {},
     "output_type": "execute_result"
    }
   ],
   "source": [
    "#factorial(2)"
   ]
  },
  {
   "cell_type": "code",
   "execution_count": 98,
   "metadata": {},
   "outputs": [
    {
     "name": "stdout",
     "output_type": "stream",
     "text": [
      "{'petal_width <= 0.8': ['Iris-setosa',\n",
      "                        {'petal_width <= 1.75': [{'petal_length <= 4.95': [{'petal_width <= 1.65': ['Iris-versicolor',\n",
      "                                                                                                    'Iris-Virginica']},\n",
      "                                                                           {'petal_width <= 1.55': ['Iris-Virginica',\n",
      "                                                                                                    {'petal_length <= 5.449999999999999': ['Iris-versicolor',\n",
      "                                                                                                                                           'Iris-Virginica']}]}]},\n",
      "                                                 {'petal_length <= 4.85': [{'sepal_width <= 3.1': ['Iris-Virginica',\n",
      "                                                                                                   'Iris-versicolor']},\n",
      "                                                                           'Iris-Virginica']}]}]}\n"
     ]
    }
   ],
   "source": [
    "from pprint import pprint\n",
    "pprint(sub_tree)"
   ]
  },
  {
   "cell_type": "markdown",
   "metadata": {},
   "source": [
    "#### Visualize Decision Tree using Graphviz library"
   ]
  },
  {
   "cell_type": "code",
   "execution_count": 112,
   "metadata": {},
   "outputs": [],
   "source": [
    "from sklearn import tree\n",
    "clf = tree.DecisionTreeClassifier()\n",
    "clf = clf.fit(df.iloc[:,:-1],df.iloc[:,-1:])"
   ]
  },
  {
   "cell_type": "code",
   "execution_count": 113,
   "metadata": {},
   "outputs": [
    {
     "data": {
      "text/plain": [
       "DecisionTreeClassifier(ccp_alpha=0.0, class_weight=None, criterion='gini',\n",
       "                       max_depth=None, max_features=None, max_leaf_nodes=None,\n",
       "                       min_impurity_decrease=0.0, min_impurity_split=None,\n",
       "                       min_samples_leaf=1, min_samples_split=2,\n",
       "                       min_weight_fraction_leaf=0.0, presort='deprecated',\n",
       "                       random_state=None, splitter='best')"
      ]
     },
     "execution_count": 113,
     "metadata": {},
     "output_type": "execute_result"
    }
   ],
   "source": [
    "clf"
   ]
  },
  {
   "cell_type": "code",
   "execution_count": 114,
   "metadata": {},
   "outputs": [],
   "source": [
    "import graphviz\n",
    "dot_data = tree.export_graphviz(clf, out_file=None,feature_names=iris.feature_names,class_names=iris.target_names,filled=True, rounded=True,special_characters=True)  \n",
    "graph = graphviz.Source(dot_data)"
   ]
  },
  {
   "cell_type": "code",
   "execution_count": 115,
   "metadata": {},
   "outputs": [],
   "source": [
    "import os\n",
    "os.environ[\"PATH\"] += os.pathsep + 'C:/ProgramData/Anaconda3/Library/bin/graphviz/'"
   ]
  },
  {
   "cell_type": "code",
   "execution_count": 116,
   "metadata": {},
   "outputs": [
    {
     "data": {
      "image/svg+xml": [
       "<?xml version=\"1.0\" encoding=\"UTF-8\" standalone=\"no\"?>\r\n",
       "<!DOCTYPE svg PUBLIC \"-//W3C//DTD SVG 1.1//EN\"\r\n",
       " \"http://www.w3.org/Graphics/SVG/1.1/DTD/svg11.dtd\">\r\n",
       "<!-- Generated by graphviz version 2.38.0 (20140413.2041)\r\n",
       " -->\r\n",
       "<!-- Title: Tree Pages: 1 -->\r\n",
       "<svg width=\"869pt\" height=\"671pt\"\r\n",
       " viewBox=\"0.00 0.00 869.00 671.00\" xmlns=\"http://www.w3.org/2000/svg\" xmlns:xlink=\"http://www.w3.org/1999/xlink\">\r\n",
       "<g id=\"graph0\" class=\"graph\" transform=\"scale(1 1) rotate(0) translate(4 667)\">\r\n",
       "<title>Tree</title>\r\n",
       "<polygon fill=\"white\" stroke=\"none\" points=\"-4,4 -4,-667 865,-667 865,4 -4,4\"/>\r\n",
       "<!-- 0 -->\r\n",
       "<g id=\"node1\" class=\"node\"><title>0</title>\r\n",
       "<path fill=\"#ffffff\" stroke=\"black\" d=\"M513,-663C513,-663 386,-663 386,-663 380,-663 374,-657 374,-651 374,-651 374,-592 374,-592 374,-586 380,-580 386,-580 386,-580 513,-580 513,-580 519,-580 525,-586 525,-592 525,-592 525,-651 525,-651 525,-657 519,-663 513,-663\"/>\r\n",
       "<text text-anchor=\"start\" x=\"382\" y=\"-647.8\" font-family=\"Helvetica,sans-Serif\" font-size=\"14.00\">petal width (cm) ≤ 0.8</text>\r\n",
       "<text text-anchor=\"start\" x=\"412\" y=\"-632.8\" font-family=\"Helvetica,sans-Serif\" font-size=\"14.00\">gini = 0.667</text>\r\n",
       "<text text-anchor=\"start\" x=\"402\" y=\"-617.8\" font-family=\"Helvetica,sans-Serif\" font-size=\"14.00\">samples = 150</text>\r\n",
       "<text text-anchor=\"start\" x=\"389\" y=\"-602.8\" font-family=\"Helvetica,sans-Serif\" font-size=\"14.00\">value = [50, 50, 50]</text>\r\n",
       "<text text-anchor=\"start\" x=\"403.5\" y=\"-587.8\" font-family=\"Helvetica,sans-Serif\" font-size=\"14.00\">class = setosa</text>\r\n",
       "</g>\r\n",
       "<!-- 1 -->\r\n",
       "<g id=\"node2\" class=\"node\"><title>1</title>\r\n",
       "<path fill=\"#39e581\" stroke=\"black\" d=\"M421,-536.5C421,-536.5 318,-536.5 318,-536.5 312,-536.5 306,-530.5 306,-524.5 306,-524.5 306,-480.5 306,-480.5 306,-474.5 312,-468.5 318,-468.5 318,-468.5 421,-468.5 421,-468.5 427,-468.5 433,-474.5 433,-480.5 433,-480.5 433,-524.5 433,-524.5 433,-530.5 427,-536.5 421,-536.5\"/>\r\n",
       "<text text-anchor=\"start\" x=\"340.5\" y=\"-521.3\" font-family=\"Helvetica,sans-Serif\" font-size=\"14.00\">gini = 0.0</text>\r\n",
       "<text text-anchor=\"start\" x=\"326\" y=\"-506.3\" font-family=\"Helvetica,sans-Serif\" font-size=\"14.00\">samples = 50</text>\r\n",
       "<text text-anchor=\"start\" x=\"317\" y=\"-491.3\" font-family=\"Helvetica,sans-Serif\" font-size=\"14.00\">value = [0, 50, 0]</text>\r\n",
       "<text text-anchor=\"start\" x=\"314\" y=\"-476.3\" font-family=\"Helvetica,sans-Serif\" font-size=\"14.00\">class = versicolor</text>\r\n",
       "</g>\r\n",
       "<!-- 0&#45;&gt;1 -->\r\n",
       "<g id=\"edge1\" class=\"edge\"><title>0&#45;&gt;1</title>\r\n",
       "<path fill=\"none\" stroke=\"black\" d=\"M421.744,-579.907C414.049,-568.652 405.683,-556.418 397.949,-545.106\"/>\r\n",
       "<polygon fill=\"black\" stroke=\"black\" points=\"400.712,-542.946 392.178,-536.667 394.933,-546.897 400.712,-542.946\"/>\r\n",
       "<text text-anchor=\"middle\" x=\"387.564\" y=\"-557.537\" font-family=\"Helvetica,sans-Serif\" font-size=\"14.00\">True</text>\r\n",
       "</g>\r\n",
       "<!-- 2 -->\r\n",
       "<g id=\"node3\" class=\"node\"><title>2</title>\r\n",
       "<path fill=\"#ffffff\" stroke=\"black\" d=\"M598,-544C598,-544 463,-544 463,-544 457,-544 451,-538 451,-532 451,-532 451,-473 451,-473 451,-467 457,-461 463,-461 463,-461 598,-461 598,-461 604,-461 610,-467 610,-473 610,-473 610,-532 610,-532 610,-538 604,-544 598,-544\"/>\r\n",
       "<text text-anchor=\"start\" x=\"459\" y=\"-528.8\" font-family=\"Helvetica,sans-Serif\" font-size=\"14.00\">petal width (cm) ≤ 1.75</text>\r\n",
       "<text text-anchor=\"start\" x=\"501.5\" y=\"-513.8\" font-family=\"Helvetica,sans-Serif\" font-size=\"14.00\">gini = 0.5</text>\r\n",
       "<text text-anchor=\"start\" x=\"483\" y=\"-498.8\" font-family=\"Helvetica,sans-Serif\" font-size=\"14.00\">samples = 100</text>\r\n",
       "<text text-anchor=\"start\" x=\"474\" y=\"-483.8\" font-family=\"Helvetica,sans-Serif\" font-size=\"14.00\">value = [50, 0, 50]</text>\r\n",
       "<text text-anchor=\"start\" x=\"484.5\" y=\"-468.8\" font-family=\"Helvetica,sans-Serif\" font-size=\"14.00\">class = setosa</text>\r\n",
       "</g>\r\n",
       "<!-- 0&#45;&gt;2 -->\r\n",
       "<g id=\"edge2\" class=\"edge\"><title>0&#45;&gt;2</title>\r\n",
       "<path fill=\"none\" stroke=\"black\" d=\"M477.603,-579.907C483.76,-571.014 490.34,-561.509 496.694,-552.331\"/>\r\n",
       "<polygon fill=\"black\" stroke=\"black\" points=\"499.633,-554.235 502.447,-544.021 493.877,-550.251 499.633,-554.235\"/>\r\n",
       "<text text-anchor=\"middle\" x=\"506.919\" y=\"-564.918\" font-family=\"Helvetica,sans-Serif\" font-size=\"14.00\">False</text>\r\n",
       "</g>\r\n",
       "<!-- 3 -->\r\n",
       "<g id=\"node4\" class=\"node\"><title>3</title>\r\n",
       "<path fill=\"#8e4de8\" stroke=\"black\" d=\"M488,-425C488,-425 347,-425 347,-425 341,-425 335,-419 335,-413 335,-413 335,-354 335,-354 335,-348 341,-342 347,-342 347,-342 488,-342 488,-342 494,-342 500,-348 500,-354 500,-354 500,-413 500,-413 500,-419 494,-425 488,-425\"/>\r\n",
       "<text text-anchor=\"start\" x=\"343\" y=\"-409.8\" font-family=\"Helvetica,sans-Serif\" font-size=\"14.00\">petal length (cm) ≤ 4.95</text>\r\n",
       "<text text-anchor=\"start\" x=\"380\" y=\"-394.8\" font-family=\"Helvetica,sans-Serif\" font-size=\"14.00\">gini = 0.168</text>\r\n",
       "<text text-anchor=\"start\" x=\"374\" y=\"-379.8\" font-family=\"Helvetica,sans-Serif\" font-size=\"14.00\">samples = 54</text>\r\n",
       "<text text-anchor=\"start\" x=\"365\" y=\"-364.8\" font-family=\"Helvetica,sans-Serif\" font-size=\"14.00\">value = [5, 0, 49]</text>\r\n",
       "<text text-anchor=\"start\" x=\"367.5\" y=\"-349.8\" font-family=\"Helvetica,sans-Serif\" font-size=\"14.00\">class = virginica</text>\r\n",
       "</g>\r\n",
       "<!-- 2&#45;&gt;3 -->\r\n",
       "<g id=\"edge3\" class=\"edge\"><title>2&#45;&gt;3</title>\r\n",
       "<path fill=\"none\" stroke=\"black\" d=\"M491.295,-460.907C482.443,-451.742 472.963,-441.927 463.848,-432.489\"/>\r\n",
       "<polygon fill=\"black\" stroke=\"black\" points=\"466.1,-429.782 456.635,-425.021 461.065,-434.645 466.1,-429.782\"/>\r\n",
       "</g>\r\n",
       "<!-- 12 -->\r\n",
       "<g id=\"node13\" class=\"node\"><title>12</title>\r\n",
       "<path fill=\"#e6843d\" stroke=\"black\" d=\"M715,-425C715,-425 574,-425 574,-425 568,-425 562,-419 562,-413 562,-413 562,-354 562,-354 562,-348 568,-342 574,-342 574,-342 715,-342 715,-342 721,-342 727,-348 727,-354 727,-354 727,-413 727,-413 727,-419 721,-425 715,-425\"/>\r\n",
       "<text text-anchor=\"start\" x=\"570\" y=\"-409.8\" font-family=\"Helvetica,sans-Serif\" font-size=\"14.00\">petal length (cm) ≤ 4.85</text>\r\n",
       "<text text-anchor=\"start\" x=\"607\" y=\"-394.8\" font-family=\"Helvetica,sans-Serif\" font-size=\"14.00\">gini = 0.043</text>\r\n",
       "<text text-anchor=\"start\" x=\"601\" y=\"-379.8\" font-family=\"Helvetica,sans-Serif\" font-size=\"14.00\">samples = 46</text>\r\n",
       "<text text-anchor=\"start\" x=\"592\" y=\"-364.8\" font-family=\"Helvetica,sans-Serif\" font-size=\"14.00\">value = [45, 0, 1]</text>\r\n",
       "<text text-anchor=\"start\" x=\"598.5\" y=\"-349.8\" font-family=\"Helvetica,sans-Serif\" font-size=\"14.00\">class = setosa</text>\r\n",
       "</g>\r\n",
       "<!-- 2&#45;&gt;12 -->\r\n",
       "<g id=\"edge12\" class=\"edge\"><title>2&#45;&gt;12</title>\r\n",
       "<path fill=\"none\" stroke=\"black\" d=\"M570.052,-460.907C579.071,-451.651 588.735,-441.732 598.014,-432.209\"/>\r\n",
       "<polygon fill=\"black\" stroke=\"black\" points=\"600.546,-434.626 605.018,-425.021 595.533,-429.741 600.546,-434.626\"/>\r\n",
       "</g>\r\n",
       "<!-- 4 -->\r\n",
       "<g id=\"node5\" class=\"node\"><title>4</title>\r\n",
       "<path fill=\"#843de6\" stroke=\"black\" d=\"M263,-306C263,-306 128,-306 128,-306 122,-306 116,-300 116,-294 116,-294 116,-235 116,-235 116,-229 122,-223 128,-223 128,-223 263,-223 263,-223 269,-223 275,-229 275,-235 275,-235 275,-294 275,-294 275,-300 269,-306 263,-306\"/>\r\n",
       "<text text-anchor=\"start\" x=\"124\" y=\"-290.8\" font-family=\"Helvetica,sans-Serif\" font-size=\"14.00\">petal width (cm) ≤ 1.65</text>\r\n",
       "<text text-anchor=\"start\" x=\"158\" y=\"-275.8\" font-family=\"Helvetica,sans-Serif\" font-size=\"14.00\">gini = 0.041</text>\r\n",
       "<text text-anchor=\"start\" x=\"152\" y=\"-260.8\" font-family=\"Helvetica,sans-Serif\" font-size=\"14.00\">samples = 48</text>\r\n",
       "<text text-anchor=\"start\" x=\"143\" y=\"-245.8\" font-family=\"Helvetica,sans-Serif\" font-size=\"14.00\">value = [1, 0, 47]</text>\r\n",
       "<text text-anchor=\"start\" x=\"145.5\" y=\"-230.8\" font-family=\"Helvetica,sans-Serif\" font-size=\"14.00\">class = virginica</text>\r\n",
       "</g>\r\n",
       "<!-- 3&#45;&gt;4 -->\r\n",
       "<g id=\"edge4\" class=\"edge\"><title>3&#45;&gt;4</title>\r\n",
       "<path fill=\"none\" stroke=\"black\" d=\"M340.478,-341.907C321.365,-331.834 300.764,-320.977 281.26,-310.698\"/>\r\n",
       "<polygon fill=\"black\" stroke=\"black\" points=\"282.864,-307.587 272.386,-306.021 279.6,-313.78 282.864,-307.587\"/>\r\n",
       "</g>\r\n",
       "<!-- 7 -->\r\n",
       "<g id=\"node8\" class=\"node\"><title>7</title>\r\n",
       "<path fill=\"#f2c09c\" stroke=\"black\" d=\"M485,-306C485,-306 350,-306 350,-306 344,-306 338,-300 338,-294 338,-294 338,-235 338,-235 338,-229 344,-223 350,-223 350,-223 485,-223 485,-223 491,-223 497,-229 497,-235 497,-235 497,-294 497,-294 497,-300 491,-306 485,-306\"/>\r\n",
       "<text text-anchor=\"start\" x=\"346\" y=\"-290.8\" font-family=\"Helvetica,sans-Serif\" font-size=\"14.00\">petal width (cm) ≤ 1.55</text>\r\n",
       "<text text-anchor=\"start\" x=\"380\" y=\"-275.8\" font-family=\"Helvetica,sans-Serif\" font-size=\"14.00\">gini = 0.444</text>\r\n",
       "<text text-anchor=\"start\" x=\"378\" y=\"-260.8\" font-family=\"Helvetica,sans-Serif\" font-size=\"14.00\">samples = 6</text>\r\n",
       "<text text-anchor=\"start\" x=\"369\" y=\"-245.8\" font-family=\"Helvetica,sans-Serif\" font-size=\"14.00\">value = [4, 0, 2]</text>\r\n",
       "<text text-anchor=\"start\" x=\"371.5\" y=\"-230.8\" font-family=\"Helvetica,sans-Serif\" font-size=\"14.00\">class = setosa</text>\r\n",
       "</g>\r\n",
       "<!-- 3&#45;&gt;7 -->\r\n",
       "<g id=\"edge7\" class=\"edge\"><title>3&#45;&gt;7</title>\r\n",
       "<path fill=\"none\" stroke=\"black\" d=\"M417.5,-341.907C417.5,-333.649 417.5,-324.864 417.5,-316.302\"/>\r\n",
       "<polygon fill=\"black\" stroke=\"black\" points=\"421,-316.021 417.5,-306.021 414,-316.021 421,-316.021\"/>\r\n",
       "</g>\r\n",
       "<!-- 5 -->\r\n",
       "<g id=\"node6\" class=\"node\"><title>5</title>\r\n",
       "<path fill=\"#8139e5\" stroke=\"black\" d=\"M109,-179.5C109,-179.5 12,-179.5 12,-179.5 6,-179.5 0,-173.5 0,-167.5 0,-167.5 0,-123.5 0,-123.5 0,-117.5 6,-111.5 12,-111.5 12,-111.5 109,-111.5 109,-111.5 115,-111.5 121,-117.5 121,-123.5 121,-123.5 121,-167.5 121,-167.5 121,-173.5 115,-179.5 109,-179.5\"/>\r\n",
       "<text text-anchor=\"start\" x=\"31.5\" y=\"-164.3\" font-family=\"Helvetica,sans-Serif\" font-size=\"14.00\">gini = 0.0</text>\r\n",
       "<text text-anchor=\"start\" x=\"17\" y=\"-149.3\" font-family=\"Helvetica,sans-Serif\" font-size=\"14.00\">samples = 47</text>\r\n",
       "<text text-anchor=\"start\" x=\"8\" y=\"-134.3\" font-family=\"Helvetica,sans-Serif\" font-size=\"14.00\">value = [0, 0, 47]</text>\r\n",
       "<text text-anchor=\"start\" x=\"10.5\" y=\"-119.3\" font-family=\"Helvetica,sans-Serif\" font-size=\"14.00\">class = virginica</text>\r\n",
       "</g>\r\n",
       "<!-- 4&#45;&gt;5 -->\r\n",
       "<g id=\"edge5\" class=\"edge\"><title>4&#45;&gt;5</title>\r\n",
       "<path fill=\"none\" stroke=\"black\" d=\"M148.662,-222.907C135.039,-211.101 120.173,-198.217 106.596,-186.45\"/>\r\n",
       "<polygon fill=\"black\" stroke=\"black\" points=\"108.619,-183.571 98.7695,-179.667 104.034,-188.861 108.619,-183.571\"/>\r\n",
       "</g>\r\n",
       "<!-- 6 -->\r\n",
       "<g id=\"node7\" class=\"node\"><title>6</title>\r\n",
       "<path fill=\"#e58139\" stroke=\"black\" d=\"M240,-179.5C240,-179.5 151,-179.5 151,-179.5 145,-179.5 139,-173.5 139,-167.5 139,-167.5 139,-123.5 139,-123.5 139,-117.5 145,-111.5 151,-111.5 151,-111.5 240,-111.5 240,-111.5 246,-111.5 252,-117.5 252,-123.5 252,-123.5 252,-167.5 252,-167.5 252,-173.5 246,-179.5 240,-179.5\"/>\r\n",
       "<text text-anchor=\"start\" x=\"166.5\" y=\"-164.3\" font-family=\"Helvetica,sans-Serif\" font-size=\"14.00\">gini = 0.0</text>\r\n",
       "<text text-anchor=\"start\" x=\"156\" y=\"-149.3\" font-family=\"Helvetica,sans-Serif\" font-size=\"14.00\">samples = 1</text>\r\n",
       "<text text-anchor=\"start\" x=\"147\" y=\"-134.3\" font-family=\"Helvetica,sans-Serif\" font-size=\"14.00\">value = [1, 0, 0]</text>\r\n",
       "<text text-anchor=\"start\" x=\"149.5\" y=\"-119.3\" font-family=\"Helvetica,sans-Serif\" font-size=\"14.00\">class = setosa</text>\r\n",
       "</g>\r\n",
       "<!-- 4&#45;&gt;6 -->\r\n",
       "<g id=\"edge6\" class=\"edge\"><title>4&#45;&gt;6</title>\r\n",
       "<path fill=\"none\" stroke=\"black\" d=\"M195.5,-222.907C195.5,-212.204 195.5,-200.615 195.5,-189.776\"/>\r\n",
       "<polygon fill=\"black\" stroke=\"black\" points=\"199,-189.667 195.5,-179.667 192,-189.667 199,-189.667\"/>\r\n",
       "</g>\r\n",
       "<!-- 8 -->\r\n",
       "<g id=\"node9\" class=\"node\"><title>8</title>\r\n",
       "<path fill=\"#e58139\" stroke=\"black\" d=\"M371,-179.5C371,-179.5 282,-179.5 282,-179.5 276,-179.5 270,-173.5 270,-167.5 270,-167.5 270,-123.5 270,-123.5 270,-117.5 276,-111.5 282,-111.5 282,-111.5 371,-111.5 371,-111.5 377,-111.5 383,-117.5 383,-123.5 383,-123.5 383,-167.5 383,-167.5 383,-173.5 377,-179.5 371,-179.5\"/>\r\n",
       "<text text-anchor=\"start\" x=\"297.5\" y=\"-164.3\" font-family=\"Helvetica,sans-Serif\" font-size=\"14.00\">gini = 0.0</text>\r\n",
       "<text text-anchor=\"start\" x=\"287\" y=\"-149.3\" font-family=\"Helvetica,sans-Serif\" font-size=\"14.00\">samples = 3</text>\r\n",
       "<text text-anchor=\"start\" x=\"278\" y=\"-134.3\" font-family=\"Helvetica,sans-Serif\" font-size=\"14.00\">value = [3, 0, 0]</text>\r\n",
       "<text text-anchor=\"start\" x=\"280.5\" y=\"-119.3\" font-family=\"Helvetica,sans-Serif\" font-size=\"14.00\">class = setosa</text>\r\n",
       "</g>\r\n",
       "<!-- 7&#45;&gt;8 -->\r\n",
       "<g id=\"edge8\" class=\"edge\"><title>7&#45;&gt;8</title>\r\n",
       "<path fill=\"none\" stroke=\"black\" d=\"M385.928,-222.907C377.088,-211.542 367.472,-199.178 358.602,-187.774\"/>\r\n",
       "<polygon fill=\"black\" stroke=\"black\" points=\"361.199,-185.412 352.297,-179.667 355.673,-189.709 361.199,-185.412\"/>\r\n",
       "</g>\r\n",
       "<!-- 9 -->\r\n",
       "<g id=\"node10\" class=\"node\"><title>9</title>\r\n",
       "<path fill=\"#c09cf2\" stroke=\"black\" d=\"M558,-187C558,-187 413,-187 413,-187 407,-187 401,-181 401,-175 401,-175 401,-116 401,-116 401,-110 407,-104 413,-104 413,-104 558,-104 558,-104 564,-104 570,-110 570,-116 570,-116 570,-175 570,-175 570,-181 564,-187 558,-187\"/>\r\n",
       "<text text-anchor=\"start\" x=\"409\" y=\"-171.8\" font-family=\"Helvetica,sans-Serif\" font-size=\"14.00\">sepal length (cm) ≤ 6.95</text>\r\n",
       "<text text-anchor=\"start\" x=\"448\" y=\"-156.8\" font-family=\"Helvetica,sans-Serif\" font-size=\"14.00\">gini = 0.444</text>\r\n",
       "<text text-anchor=\"start\" x=\"446\" y=\"-141.8\" font-family=\"Helvetica,sans-Serif\" font-size=\"14.00\">samples = 3</text>\r\n",
       "<text text-anchor=\"start\" x=\"437\" y=\"-126.8\" font-family=\"Helvetica,sans-Serif\" font-size=\"14.00\">value = [1, 0, 2]</text>\r\n",
       "<text text-anchor=\"start\" x=\"435.5\" y=\"-111.8\" font-family=\"Helvetica,sans-Serif\" font-size=\"14.00\">class = virginica</text>\r\n",
       "</g>\r\n",
       "<!-- 7&#45;&gt;9 -->\r\n",
       "<g id=\"edge9\" class=\"edge\"><title>7&#45;&gt;9</title>\r\n",
       "<path fill=\"none\" stroke=\"black\" d=\"M441.092,-222.907C446.156,-214.195 451.56,-204.897 456.793,-195.893\"/>\r\n",
       "<polygon fill=\"black\" stroke=\"black\" points=\"459.951,-197.425 461.949,-187.021 453.898,-193.908 459.951,-197.425\"/>\r\n",
       "</g>\r\n",
       "<!-- 10 -->\r\n",
       "<g id=\"node11\" class=\"node\"><title>10</title>\r\n",
       "<path fill=\"#8139e5\" stroke=\"black\" d=\"M464.5,-68C464.5,-68 372.5,-68 372.5,-68 366.5,-68 360.5,-62 360.5,-56 360.5,-56 360.5,-12 360.5,-12 360.5,-6 366.5,-0 372.5,-0 372.5,-0 464.5,-0 464.5,-0 470.5,-0 476.5,-6 476.5,-12 476.5,-12 476.5,-56 476.5,-56 476.5,-62 470.5,-68 464.5,-68\"/>\r\n",
       "<text text-anchor=\"start\" x=\"389.5\" y=\"-52.8\" font-family=\"Helvetica,sans-Serif\" font-size=\"14.00\">gini = 0.0</text>\r\n",
       "<text text-anchor=\"start\" x=\"379\" y=\"-37.8\" font-family=\"Helvetica,sans-Serif\" font-size=\"14.00\">samples = 2</text>\r\n",
       "<text text-anchor=\"start\" x=\"370\" y=\"-22.8\" font-family=\"Helvetica,sans-Serif\" font-size=\"14.00\">value = [0, 0, 2]</text>\r\n",
       "<text text-anchor=\"start\" x=\"368.5\" y=\"-7.8\" font-family=\"Helvetica,sans-Serif\" font-size=\"14.00\">class = virginica</text>\r\n",
       "</g>\r\n",
       "<!-- 9&#45;&gt;10 -->\r\n",
       "<g id=\"edge10\" class=\"edge\"><title>9&#45;&gt;10</title>\r\n",
       "<path fill=\"none\" stroke=\"black\" d=\"M460.552,-103.726C455.194,-94.9703 449.524,-85.7032 444.141,-76.9051\"/>\r\n",
       "<polygon fill=\"black\" stroke=\"black\" points=\"447.08,-75.0028 438.875,-68.2996 441.109,-78.6563 447.08,-75.0028\"/>\r\n",
       "</g>\r\n",
       "<!-- 11 -->\r\n",
       "<g id=\"node12\" class=\"node\"><title>11</title>\r\n",
       "<path fill=\"#e58139\" stroke=\"black\" d=\"M596,-68C596,-68 507,-68 507,-68 501,-68 495,-62 495,-56 495,-56 495,-12 495,-12 495,-6 501,-0 507,-0 507,-0 596,-0 596,-0 602,-0 608,-6 608,-12 608,-12 608,-56 608,-56 608,-62 602,-68 596,-68\"/>\r\n",
       "<text text-anchor=\"start\" x=\"522.5\" y=\"-52.8\" font-family=\"Helvetica,sans-Serif\" font-size=\"14.00\">gini = 0.0</text>\r\n",
       "<text text-anchor=\"start\" x=\"512\" y=\"-37.8\" font-family=\"Helvetica,sans-Serif\" font-size=\"14.00\">samples = 1</text>\r\n",
       "<text text-anchor=\"start\" x=\"503\" y=\"-22.8\" font-family=\"Helvetica,sans-Serif\" font-size=\"14.00\">value = [1, 0, 0]</text>\r\n",
       "<text text-anchor=\"start\" x=\"505.5\" y=\"-7.8\" font-family=\"Helvetica,sans-Serif\" font-size=\"14.00\">class = setosa</text>\r\n",
       "</g>\r\n",
       "<!-- 9&#45;&gt;11 -->\r\n",
       "<g id=\"edge11\" class=\"edge\"><title>9&#45;&gt;11</title>\r\n",
       "<path fill=\"none\" stroke=\"black\" d=\"M510.076,-103.726C515.354,-94.9703 520.939,-85.7032 526.242,-76.9051\"/>\r\n",
       "<polygon fill=\"black\" stroke=\"black\" points=\"529.264,-78.671 531.429,-68.2996 523.269,-75.0574 529.264,-78.671\"/>\r\n",
       "</g>\r\n",
       "<!-- 13 -->\r\n",
       "<g id=\"node14\" class=\"node\"><title>13</title>\r\n",
       "<path fill=\"#f2c09c\" stroke=\"black\" d=\"M710,-306C710,-306 579,-306 579,-306 573,-306 567,-300 567,-294 567,-294 567,-235 567,-235 567,-229 573,-223 579,-223 579,-223 710,-223 710,-223 716,-223 722,-229 722,-235 722,-235 722,-294 722,-294 722,-300 716,-306 710,-306\"/>\r\n",
       "<text text-anchor=\"start\" x=\"575\" y=\"-290.8\" font-family=\"Helvetica,sans-Serif\" font-size=\"14.00\">sepal width (cm) ≤ 3.1</text>\r\n",
       "<text text-anchor=\"start\" x=\"607\" y=\"-275.8\" font-family=\"Helvetica,sans-Serif\" font-size=\"14.00\">gini = 0.444</text>\r\n",
       "<text text-anchor=\"start\" x=\"605\" y=\"-260.8\" font-family=\"Helvetica,sans-Serif\" font-size=\"14.00\">samples = 3</text>\r\n",
       "<text text-anchor=\"start\" x=\"596\" y=\"-245.8\" font-family=\"Helvetica,sans-Serif\" font-size=\"14.00\">value = [2, 0, 1]</text>\r\n",
       "<text text-anchor=\"start\" x=\"598.5\" y=\"-230.8\" font-family=\"Helvetica,sans-Serif\" font-size=\"14.00\">class = setosa</text>\r\n",
       "</g>\r\n",
       "<!-- 12&#45;&gt;13 -->\r\n",
       "<g id=\"edge13\" class=\"edge\"><title>12&#45;&gt;13</title>\r\n",
       "<path fill=\"none\" stroke=\"black\" d=\"M644.5,-341.907C644.5,-333.649 644.5,-324.864 644.5,-316.302\"/>\r\n",
       "<polygon fill=\"black\" stroke=\"black\" points=\"648,-316.021 644.5,-306.021 641,-316.021 648,-316.021\"/>\r\n",
       "</g>\r\n",
       "<!-- 16 -->\r\n",
       "<g id=\"node17\" class=\"node\"><title>16</title>\r\n",
       "<path fill=\"#e58139\" stroke=\"black\" d=\"M849,-298.5C849,-298.5 752,-298.5 752,-298.5 746,-298.5 740,-292.5 740,-286.5 740,-286.5 740,-242.5 740,-242.5 740,-236.5 746,-230.5 752,-230.5 752,-230.5 849,-230.5 849,-230.5 855,-230.5 861,-236.5 861,-242.5 861,-242.5 861,-286.5 861,-286.5 861,-292.5 855,-298.5 849,-298.5\"/>\r\n",
       "<text text-anchor=\"start\" x=\"771.5\" y=\"-283.3\" font-family=\"Helvetica,sans-Serif\" font-size=\"14.00\">gini = 0.0</text>\r\n",
       "<text text-anchor=\"start\" x=\"757\" y=\"-268.3\" font-family=\"Helvetica,sans-Serif\" font-size=\"14.00\">samples = 43</text>\r\n",
       "<text text-anchor=\"start\" x=\"748\" y=\"-253.3\" font-family=\"Helvetica,sans-Serif\" font-size=\"14.00\">value = [43, 0, 0]</text>\r\n",
       "<text text-anchor=\"start\" x=\"754.5\" y=\"-238.3\" font-family=\"Helvetica,sans-Serif\" font-size=\"14.00\">class = setosa</text>\r\n",
       "</g>\r\n",
       "<!-- 12&#45;&gt;16 -->\r\n",
       "<g id=\"edge16\" class=\"edge\"><title>12&#45;&gt;16</title>\r\n",
       "<path fill=\"none\" stroke=\"black\" d=\"M698.623,-341.907C714.66,-329.88 732.187,-316.735 748.112,-304.791\"/>\r\n",
       "<polygon fill=\"black\" stroke=\"black\" points=\"750.377,-307.467 756.277,-298.667 746.177,-301.867 750.377,-307.467\"/>\r\n",
       "</g>\r\n",
       "<!-- 14 -->\r\n",
       "<g id=\"node15\" class=\"node\"><title>14</title>\r\n",
       "<path fill=\"#e58139\" stroke=\"black\" d=\"M689,-179.5C689,-179.5 600,-179.5 600,-179.5 594,-179.5 588,-173.5 588,-167.5 588,-167.5 588,-123.5 588,-123.5 588,-117.5 594,-111.5 600,-111.5 600,-111.5 689,-111.5 689,-111.5 695,-111.5 701,-117.5 701,-123.5 701,-123.5 701,-167.5 701,-167.5 701,-173.5 695,-179.5 689,-179.5\"/>\r\n",
       "<text text-anchor=\"start\" x=\"615.5\" y=\"-164.3\" font-family=\"Helvetica,sans-Serif\" font-size=\"14.00\">gini = 0.0</text>\r\n",
       "<text text-anchor=\"start\" x=\"605\" y=\"-149.3\" font-family=\"Helvetica,sans-Serif\" font-size=\"14.00\">samples = 2</text>\r\n",
       "<text text-anchor=\"start\" x=\"596\" y=\"-134.3\" font-family=\"Helvetica,sans-Serif\" font-size=\"14.00\">value = [2, 0, 0]</text>\r\n",
       "<text text-anchor=\"start\" x=\"598.5\" y=\"-119.3\" font-family=\"Helvetica,sans-Serif\" font-size=\"14.00\">class = setosa</text>\r\n",
       "</g>\r\n",
       "<!-- 13&#45;&gt;14 -->\r\n",
       "<g id=\"edge14\" class=\"edge\"><title>13&#45;&gt;14</title>\r\n",
       "<path fill=\"none\" stroke=\"black\" d=\"M644.5,-222.907C644.5,-212.204 644.5,-200.615 644.5,-189.776\"/>\r\n",
       "<polygon fill=\"black\" stroke=\"black\" points=\"648,-189.667 644.5,-179.667 641,-189.667 648,-189.667\"/>\r\n",
       "</g>\r\n",
       "<!-- 15 -->\r\n",
       "<g id=\"node16\" class=\"node\"><title>15</title>\r\n",
       "<path fill=\"#8139e5\" stroke=\"black\" d=\"M823.5,-179.5C823.5,-179.5 731.5,-179.5 731.5,-179.5 725.5,-179.5 719.5,-173.5 719.5,-167.5 719.5,-167.5 719.5,-123.5 719.5,-123.5 719.5,-117.5 725.5,-111.5 731.5,-111.5 731.5,-111.5 823.5,-111.5 823.5,-111.5 829.5,-111.5 835.5,-117.5 835.5,-123.5 835.5,-123.5 835.5,-167.5 835.5,-167.5 835.5,-173.5 829.5,-179.5 823.5,-179.5\"/>\r\n",
       "<text text-anchor=\"start\" x=\"748.5\" y=\"-164.3\" font-family=\"Helvetica,sans-Serif\" font-size=\"14.00\">gini = 0.0</text>\r\n",
       "<text text-anchor=\"start\" x=\"738\" y=\"-149.3\" font-family=\"Helvetica,sans-Serif\" font-size=\"14.00\">samples = 1</text>\r\n",
       "<text text-anchor=\"start\" x=\"729\" y=\"-134.3\" font-family=\"Helvetica,sans-Serif\" font-size=\"14.00\">value = [0, 0, 1]</text>\r\n",
       "<text text-anchor=\"start\" x=\"727.5\" y=\"-119.3\" font-family=\"Helvetica,sans-Serif\" font-size=\"14.00\">class = virginica</text>\r\n",
       "</g>\r\n",
       "<!-- 13&#45;&gt;15 -->\r\n",
       "<g id=\"edge15\" class=\"edge\"><title>13&#45;&gt;15</title>\r\n",
       "<path fill=\"none\" stroke=\"black\" d=\"M690.644,-222.907C704.065,-211.101 718.711,-198.217 732.087,-186.45\"/>\r\n",
       "<polygon fill=\"black\" stroke=\"black\" points=\"734.601,-188.9 739.797,-179.667 729.977,-183.644 734.601,-188.9\"/>\r\n",
       "</g>\r\n",
       "</g>\r\n",
       "</svg>\r\n"
      ],
      "text/plain": [
       "<graphviz.files.Source at 0x1fffb348ac8>"
      ]
     },
     "execution_count": 116,
     "metadata": {},
     "output_type": "execute_result"
    }
   ],
   "source": [
    "graph"
   ]
  }
 ],
 "metadata": {
  "kernelspec": {
   "display_name": "Python 3",
   "language": "python",
   "name": "python3"
  },
  "language_info": {
   "codemirror_mode": {
    "name": "ipython",
    "version": 3
   },
   "file_extension": ".py",
   "mimetype": "text/x-python",
   "name": "python",
   "nbconvert_exporter": "python",
   "pygments_lexer": "ipython3",
   "version": "3.7.4"
  }
 },
 "nbformat": 4,
 "nbformat_minor": 4
}
