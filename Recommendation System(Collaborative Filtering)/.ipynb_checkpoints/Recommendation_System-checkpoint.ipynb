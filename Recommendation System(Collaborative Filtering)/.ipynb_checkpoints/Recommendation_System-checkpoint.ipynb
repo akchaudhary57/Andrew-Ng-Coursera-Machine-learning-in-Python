{
 "cells": [
  {
   "cell_type": "markdown",
   "metadata": {},
   "source": [
    "## Recommendation system ( Collaborative Filtering)\n",
    "\n",
    "It is widely used for feature learning. It starts to learn for itself what feature to use."
   ]
  },
  {
   "cell_type": "code",
   "execution_count": 1,
   "metadata": {},
   "outputs": [],
   "source": [
    "import numpy as np\n",
    "import matplotlib.pyplot as plt\n",
    "from scipy.io import loadmat\n",
    "from Recommendation import *"
   ]
  },
  {
   "cell_type": "markdown",
   "metadata": {},
   "source": [
    "### Andrew Ng coursera data set"
   ]
  },
  {
   "cell_type": "code",
   "execution_count": 2,
   "metadata": {},
   "outputs": [],
   "source": [
    "mat3 = loadmat(\"dataset/ex8_movies.mat\")\n",
    "mat4 = loadmat(\"dataset/ex8_movieParams.mat\")\n",
    "Y = mat3[\"Y\"] # 1682 X 943 matrix, containing ratings (1-5) of 1682 movies on 943 user\n",
    "R = mat3[\"R\"] # 1682 X 943 matrix, where R(i,j) = 1 if and only if user j give rating to movie i\n",
    "X = mat4[\"X\"] # 1682 X 10 matrix , num_movies X num_features matrix of movie features\n",
    "Theta = mat4[\"Theta\"] # 943 X 10 matrix, num_users X num_features matrix of user features"
   ]
  },
  {
   "cell_type": "code",
   "execution_count": 3,
   "metadata": {},
   "outputs": [
    {
     "data": {
      "text/plain": [
       "(1682, 943)"
      ]
     },
     "execution_count": 3,
     "metadata": {},
     "output_type": "execute_result"
    }
   ],
   "source": [
    "Y.shape"
   ]
  },
  {
   "cell_type": "code",
   "execution_count": 5,
   "metadata": {},
   "outputs": [
    {
     "name": "stdout",
     "output_type": "stream",
     "text": [
      "Average rating for movie 1 3.8783185840707963\n"
     ]
    }
   ],
   "source": [
    "print(\"Average rating for movie 1\",np.sum(Y[0,:]*R[0,:])/np.sum(R[0,:]))"
   ]
  },
  {
   "cell_type": "code",
   "execution_count": 5,
   "metadata": {},
   "outputs": [
    {
     "data": {
      "text/plain": [
       "(1682, 10)"
      ]
     },
     "execution_count": 5,
     "metadata": {},
     "output_type": "execute_result"
    }
   ],
   "source": [
    "X.shape"
   ]
  },
  {
   "cell_type": "markdown",
   "metadata": {},
   "source": [
    "__Regularized Cost Function__\n",
    "![Cost Function](fig/R1.png)"
   ]
  },
  {
   "cell_type": "markdown",
   "metadata": {},
   "source": [
    "__Gradient Descent__\n",
    "![](fig/R2.png)"
   ]
  },
  {
   "cell_type": "code",
   "execution_count": 6,
   "metadata": {},
   "outputs": [],
   "source": [
    "# Reduce the data set size to run faster\n",
    "num_users, num_movies, num_features = 4,5,3\n",
    "X_test = X[:num_movies,:num_features]\n",
    "Theta_test= Theta[:num_users,:num_features]\n",
    "Y_test = Y[:num_movies,:num_users]\n",
    "R_test = R[:num_movies,:num_users]\n",
    "params = np.append(X_test.flatten(),Theta_test.flatten())"
   ]
  },
  {
   "cell_type": "code",
   "execution_count": 7,
   "metadata": {},
   "outputs": [],
   "source": [
    "Recom = Recommendation_System()\n",
    "\n",
    "J = Recom.Reg_CostFunction(params,X_test,Y_test,0,Theta_test,R_test,num_users,num_movies,num_features)\n",
    "Grad = Recom.Regularized_Gradient(params,X_test,Y_test,0,Theta_test,R_test,num_users,num_movies,num_features)"
   ]
  },
  {
   "cell_type": "code",
   "execution_count": 8,
   "metadata": {},
   "outputs": [
    {
     "data": {
      "text/plain": [
       "22.224603725685675"
      ]
     },
     "execution_count": 8,
     "metadata": {},
     "output_type": "execute_result"
    }
   ],
   "source": [
    "J"
   ]
  },
  {
   "cell_type": "code",
   "execution_count": 9,
   "metadata": {},
   "outputs": [],
   "source": [
    "J = Recom.Reg_CostFunction(params,X_test,Y_test,1.5,Theta_test,R_test,num_users,num_movies,num_features)\n",
    "Grad = Recom.Regularized_Gradient(params,X_test,Y_test,1.5,Theta_test,R_test,num_users,num_movies,num_features)"
   ]
  },
  {
   "cell_type": "code",
   "execution_count": 10,
   "metadata": {},
   "outputs": [
    {
     "data": {
      "text/plain": [
       "31.34405624427422"
      ]
     },
     "execution_count": 10,
     "metadata": {},
     "output_type": "execute_result"
    }
   ],
   "source": [
    "J"
   ]
  }
 ],
 "metadata": {
  "kernelspec": {
   "display_name": "Python 3",
   "language": "python",
   "name": "python3"
  },
  "language_info": {
   "codemirror_mode": {
    "name": "ipython",
    "version": 3
   },
   "file_extension": ".py",
   "mimetype": "text/x-python",
   "name": "python",
   "nbconvert_exporter": "python",
   "pygments_lexer": "ipython3",
   "version": "3.7.4"
  }
 },
 "nbformat": 4,
 "nbformat_minor": 4
}
